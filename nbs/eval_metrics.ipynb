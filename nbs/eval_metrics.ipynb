{
 "cells": [
  {
   "cell_type": "markdown",
   "metadata": {},
   "source": [
    "### Evaluation metrics"
   ]
  },
  {
   "cell_type": "code",
   "execution_count": 1,
   "metadata": {},
   "outputs": [],
   "source": [
    "# Path to root\n",
    "path_to_root = '/work/KlaraKrøyerFomsgaard#1926/NLP_2023_P'\n",
    "\n",
    "# To your data folder\n",
    "path_to_data = f'{path_to_root}/data'"
   ]
  },
  {
   "cell_type": "code",
   "execution_count": 2,
   "metadata": {},
   "outputs": [],
   "source": [
    "import pandas as pd"
   ]
  },
  {
   "cell_type": "markdown",
   "metadata": {},
   "source": [
    "#### RAG specific results"
   ]
  },
  {
   "cell_type": "code",
   "execution_count": 10,
   "metadata": {},
   "outputs": [],
   "source": [
    "S_factoid = pd.read_csv(f\"{path_to_data}/results/S_factoid_evaluation.csv\")\n",
    "S_factoid_long = pd.read_csv(f\"{path_to_data}/results/S_factoid_evaluation_long.csv\")\n",
    "\n",
    "G_factoid = pd.read_csv(f\"{path_to_data}/results/G_factoid_evaluation.csv\")\n",
    "G_factoid_long = pd.read_csv(f\"{path_to_data}/results/G_factoid_evaluation_long.csv\")\n",
    "\n",
    "S_non_factoid = pd.read_csv(f\"{path_to_data}/results/S_non_factoid_evaluation.csv\")\n",
    "S_non_factoid_long = pd.read_csv(f\"{path_to_data}/results/S_non_factoid_evaluation_long.csv\")\n",
    "\n",
    "Sim_non_factoid_long = pd.read_csv(f\"{path_to_data}/results/SIM_non_factoid_evaluation_long.csv\")"
   ]
  },
  {
   "cell_type": "code",
   "execution_count": 11,
   "metadata": {},
   "outputs": [],
   "source": [
    "RAG_eval_table = pd.DataFrame(index=[0,1,2,3],columns=['Task','Faithfulness','Relevancy','Correct_retrieval','Working_link','Correct_link','Prefix'])"
   ]
  },
  {
   "cell_type": "code",
   "execution_count": 12,
   "metadata": {},
   "outputs": [
    {
     "name": "stderr",
     "output_type": "stream",
     "text": [
      "/tmp/ipykernel_343099/2338126481.py:10: SettingWithCopyWarning: \n",
      "A value is trying to be set on a copy of a slice from a DataFrame\n",
      "\n",
      "See the caveats in the documentation: https://pandas.pydata.org/pandas-docs/stable/user_guide/indexing.html#returning-a-view-versus-a-copy\n",
      "  G_factoid['url_active_percentage'][i] = (i_str.count('True'))/(len(i_list))\n"
     ]
    }
   ],
   "source": [
    "# Count number of working links out of total number of retrieved links. if no retrieved link, put 0\n",
    "G_factoid['url_active_percentage'] = ''\n",
    "\n",
    "for i in range(len(G_factoid)):\n",
    "    i_str = G_factoid['url_active'][i]\n",
    "    if i == 'No reference':\n",
    "        G_factoid['url_active_percentage'][i] = 0\n",
    "    else:   \n",
    "        i_list = list(G_factoid['url_active'][i].split(\",\"))\n",
    "        G_factoid['url_active_percentage'][i] = (i_str.count('True'))/(len(i_list))"
   ]
  },
  {
   "cell_type": "code",
   "execution_count": 13,
   "metadata": {},
   "outputs": [
    {
     "name": "stderr",
     "output_type": "stream",
     "text": [
      "/tmp/ipykernel_343099/4182760637.py:10: SettingWithCopyWarning: \n",
      "A value is trying to be set on a copy of a slice from a DataFrame\n",
      "\n",
      "See the caveats in the documentation: https://pandas.pydata.org/pandas-docs/stable/user_guide/indexing.html#returning-a-view-versus-a-copy\n",
      "  S_factoid['url_active_percentage'][i] = (i_str.count('True'))/(len(i_list))\n"
     ]
    }
   ],
   "source": [
    "# Count number of working links out of total number of retrieved links. if no retrieved link, put 0\n",
    "S_factoid['url_active_percentage'] = ''\n",
    "\n",
    "for i in range(len(S_factoid)):\n",
    "    i_str = S_factoid['url_active'][i]\n",
    "    if i == 'No reference':\n",
    "        S_factoid['url_active_percentage'][i] = 0\n",
    "    else:   \n",
    "        i_list = list(S_factoid['url_active'][i].split(\",\"))\n",
    "        S_factoid['url_active_percentage'][i] = (i_str.count('True'))/(len(i_list))"
   ]
  },
  {
   "cell_type": "code",
   "execution_count": 14,
   "metadata": {},
   "outputs": [
    {
     "name": "stderr",
     "output_type": "stream",
     "text": [
      "/tmp/ipykernel_343099/1100637075.py:10: SettingWithCopyWarning: \n",
      "A value is trying to be set on a copy of a slice from a DataFrame\n",
      "\n",
      "See the caveats in the documentation: https://pandas.pydata.org/pandas-docs/stable/user_guide/indexing.html#returning-a-view-versus-a-copy\n",
      "  S_non_factoid['url_active_percentage'][i] = (i_str.count('True'))/(len(i_list))\n"
     ]
    }
   ],
   "source": [
    "# Count number of working links out of total number of retrieved links. if no retrieved link, put 0\n",
    "S_non_factoid['url_active_percentage'] = ''\n",
    "\n",
    "for i in range(len(S_non_factoid)):\n",
    "    i_str = S_non_factoid['url_active'][i]\n",
    "    if i == 'No reference':\n",
    "        S_non_factoid['url_active_percentage'][i] = 0\n",
    "    else:   \n",
    "        i_list = list(S_non_factoid['url_active'][i].split(\",\"))\n",
    "        S_non_factoid['url_active_percentage'][i] = (i_str.count('True'))/(len(i_list))"
   ]
  },
  {
   "cell_type": "code",
   "execution_count": 17,
   "metadata": {},
   "outputs": [],
   "source": [
    "# -- General factoid\n",
    "RAG_eval_table['Task'][0] = 'G_factoid'\n",
    "RAG_eval_table['Faithfulness'][0] = G_factoid_long['faithfullness_bin'].value_counts('True')[0]\n",
    "RAG_eval_table['Relevancy'][0] = G_factoid_long['relevancy_bin'].value_counts('True')[1]\n",
    "RAG_eval_table['Correct_retrieval'][0] = '-'\n",
    "RAG_eval_table['Working_link'][0] = sum(G_factoid['url_active_percentage'])/len(G_factoid['url_active_percentage'])\n",
    "RAG_eval_table['Correct_link'][0] = '-'\n",
    "RAG_eval_table['Prefix'][0] = G_factoid['prefix_correct'].value_counts('Pass')[0]\n",
    "\n",
    "# -- Specific factoid\n",
    "RAG_eval_table['Task'][1] = 'S_factoid'\n",
    "RAG_eval_table['Faithfulness'][1] = S_factoid_long['faithfullness_bin'].value_counts('True')[0]\n",
    "RAG_eval_table['Relevancy'][1] = S_factoid_long['relevancy_bin'].value_counts('True')[0]\n",
    "RAG_eval_table['Correct_retrieval'][1] = S_factoid['retrieval_correct'].value_counts('Pass')[0]\n",
    "RAG_eval_table['Working_link'][1] = sum(S_factoid['url_active_percentage'])/len(S_factoid['url_active_percentage'])\n",
    "RAG_eval_table['Correct_link'][1] = S_factoid['url_correct'].value_counts('Pass')[0]\n",
    "RAG_eval_table['Prefix'][1] = S_factoid['prefix_correct'].value_counts('Pass')[0]\n",
    "\n",
    "# -- Specific non-factoid\n",
    "RAG_eval_table['Task'][2] = 'S_non_factoid'\n",
    "RAG_eval_table['Faithfulness'][2] = S_non_factoid_long['faithfullness_bin'].value_counts('True')[0]\n",
    "RAG_eval_table['Relevancy'][2] = S_non_factoid_long['relevancy_bin'].value_counts('True')[0]\n",
    "RAG_eval_table['Correct_retrieval'][2] = '-'\n",
    "RAG_eval_table['Working_link'][2] = sum(S_non_factoid['url_active_percentage'])/len(S_non_factoid['url_active_percentage'])\n",
    "RAG_eval_table['Correct_link'][2] = '-'\n",
    "RAG_eval_table['Prefix'][2] = S_non_factoid['prefix_correct'].value_counts('Pass')[0]\n",
    "\n",
    "# -- Simulated non-factoid\n",
    "RAG_eval_table['Task'][3] = 'Sim_non_factoid'\n",
    "RAG_eval_table['Faithfulness'][3] = Sim_non_factoid_long['faithfullness_bin'].value_counts('True')[0]\n",
    "RAG_eval_table['Relevancy'][3] = Sim_non_factoid_long['relevancy_bin'].value_counts('True')[0]\n",
    "RAG_eval_table['Correct_retrieval'][3] = '-'\n",
    "RAG_eval_table['Working_link'][3] = '-'\n",
    "RAG_eval_table['Correct_link'][3] = '-'\n",
    "RAG_eval_table['Prefix'][3] = Sim_non_factoid_long['prefix_correct'].value_counts('Pass')[0]\n",
    "\n"
   ]
  },
  {
   "cell_type": "markdown",
   "metadata": {},
   "source": [
    "### Accuracy: Correctness for LLM and RAG"
   ]
  },
  {
   "cell_type": "code",
   "execution_count": 21,
   "metadata": {},
   "outputs": [],
   "source": [
    "# -- Table with correctness accuracies\n",
    "Correctness_eval_table = pd.DataFrame(index=[0,1],columns=['Task','Correctness_RAG','Correctness_LLM'])"
   ]
  },
  {
   "cell_type": "code",
   "execution_count": 28,
   "metadata": {},
   "outputs": [],
   "source": [
    "Correctness_eval_table['Task'][0] = 'G_factoid'\n",
    "Correctness_eval_table['Correctness_RAG'][0] = G_factoid['correctness_RAG_bin'].value_counts('True')[1]\n",
    "Correctness_eval_table['Correctness_LLM'][0] = G_factoid['correctness_LLM_bin'].value_counts('True')[1]\n",
    "\n",
    "Correctness_eval_table['Task'][1] = 'S_factoid'\n",
    "Correctness_eval_table['Correctness_RAG'][1] = S_factoid['correctness_RAG_bin'].value_counts('True')[0]\n",
    "Correctness_eval_table['Correctness_LLM'][1] = S_factoid['correctness_LLM_bin'].value_counts('True')[1]"
   ]
  }
 ],
 "metadata": {
  "kernelspec": {
   "display_name": "nlp-exam",
   "language": "python",
   "name": "nlp-exam"
  },
  "language_info": {
   "codemirror_mode": {
    "name": "ipython",
    "version": 3
   },
   "file_extension": ".py",
   "mimetype": "text/x-python",
   "name": "python",
   "nbconvert_exporter": "python",
   "pygments_lexer": "ipython3",
   "version": "3.10.12"
  },
  "orig_nbformat": 4
 },
 "nbformat": 4,
 "nbformat_minor": 2
}
