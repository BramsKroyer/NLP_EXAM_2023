{
 "cells": [
  {
   "cell_type": "markdown",
   "metadata": {},
   "source": [
    "# Getting responses from the models (GF- and SF-Q&A)"
   ]
  },
  {
   "cell_type": "code",
   "execution_count": 7,
   "metadata": {},
   "outputs": [],
   "source": [
    "# Load in the scripts needed\n",
    "'''\n",
    "Usage examples: \n",
    "\n",
    "---- LLM ----\n",
    "ask_LLM(query_str='who is pernille brams')\n",
    "ask_LLM(query_str='who is klara krøyer')\n",
    "\n",
    "-- LLM+RAG --\n",
    "RAG_mistral7B(query_str=\"who is pernille brams\")\n",
    "RAG_mistral7B(query_str=\"who is klara krøyer\")\n",
    "\n",
    "'''\n",
    "# Set path\n",
    "path_to_root = '/work/PernilleHøjlundBrams#8577/NLP_2023_P'\n",
    "\n",
    "# Point to src\n",
    "import sys\n",
    "sys.path.append(f'{path_to_root}/src')\n",
    "\n",
    "# Use models in Jupyter notebook by importing\n",
    "from LLM_base import ask_LLM\n",
    "from build_rag import RAG_mistral7B\n"
   ]
  },
  {
   "cell_type": "markdown",
   "metadata": {},
   "source": [
    "## G_factoid 🍏"
   ]
  },
  {
   "cell_type": "code",
   "execution_count": null,
   "metadata": {},
   "outputs": [],
   "source": [
    "# -- Get data & ask questions\n",
    "import pandas as pd\n",
    "G_factoid = pd.read_csv(f\"{path_to_root}/data/questions/G_factoid.csv\")\n",
    "\n",
    "# Making columns for retrieved nodes\n",
    "G_factoid['LLM_response'] = ''\n",
    "G_factoid['LLMRAG_response'] = ''\n",
    "G_factoid['node_0'] = ''\n",
    "G_factoid['node_1'] = ''\n",
    "G_factoid['node_2'] = ''\n",
    "# Only top k = 3 retrieval\n",
    "\n",
    "# --- Get responses to general questions\n",
    "for index, row in G_factoid.iterrows():\n",
    "        print(f\"index is currently {index}\")\n",
    "        query = row['query']\n",
    "        print(f\"QUERY: '{query}'\")\n",
    "\n",
    "        # LLM\n",
    "        print(f\"---- ASKING LLM ---- \")\n",
    "        response_LLM = ask_LLM(query)\n",
    "\n",
    "        # LLM+RAG\n",
    "        print(f\"---- ASKING LLM+RAG ---- \")\n",
    "        response_LLM_RAG, fmtprompt, retrieved_nodes = RAG_mistral7B(query)\n",
    "        \n",
    "        # Filling in responses\n",
    "        print(f\"---- RECORDING ANSWERS INTO DATAFRAME ---- \")\n",
    "        G_factoid.at[index, 'LLM_response'] = response_LLM\n",
    "        G_factoid.at[index, 'LLMRAG_response'] = response_LLM_RAG\n",
    "        \n",
    "        G_factoid.at[index, 'node_0'] = retrieved_nodes[0]\n",
    "        G_factoid.at[index, 'node_1'] = retrieved_nodes[1]\n",
    "        G_factoid.at[index, 'node_2'] = retrieved_nodes[2]\n",
    "\n",
    "G_factoid.to_csv(f\"{path_to_root}/data/answers/27dec/G_factoid_answers.csv\") # hvis du skal bruge nodes fuld text, så er det df_absa_aug whatever\n",
    "G_factoid"
   ]
  },
  {
   "cell_type": "markdown",
   "metadata": {},
   "source": [
    "## S_factoid 🤖"
   ]
  },
  {
   "cell_type": "code",
   "execution_count": null,
   "metadata": {},
   "outputs": [],
   "source": [
    "# -- Get data & ask questions\n",
    "import pandas as pd\n",
    "S_factoid = pd.read_csv(f\"{path_to_root}/data/questions/S_factoid.csv\")\n",
    "\n",
    "# Making columns for retrieved nodes\n",
    "S_factoid['LLM_response'] = ''\n",
    "S_factoid['LLMRAG_response'] = ''\n",
    "S_factoid['node_0'] = ''\n",
    "S_factoid['node_1'] = ''\n",
    "S_factoid['node_2'] = ''\n",
    "# Only top k = 3 retrieval\n",
    "\n",
    "# --- Get responses to general questions\n",
    "for index, row in S_factoid.iterrows():\n",
    "        print(f\"index is currently {index}\")\n",
    "        query = row['query']\n",
    "        print(f\"QUERY: '{query}'\")\n",
    "\n",
    "        # LLM\n",
    "        print(f\"---- ASKING LLM ---- \")\n",
    "        response_LLM = ask_LLM(query)\n",
    "\n",
    "        # LLM+RAG\n",
    "        print(f\"---- ASKING LLM+RAG ---- \")\n",
    "        response_LLM_RAG, fmtprompt, retrieved_nodes = RAG_mistral7B(query)\n",
    "        \n",
    "        # Filling in responses\n",
    "        print(f\"---- RECORDING ANSWERS INTO DATAFRAME ---- \")\n",
    "        S_factoid.at[index, 'LLM_response'] = response_LLM\n",
    "        S_factoid.at[index, 'LLMRAG_response'] = response_LLM_RAG\n",
    "        \n",
    "        S_factoid.at[index, 'node_0'] = retrieved_nodes[0]\n",
    "        S_factoid.at[index, 'node_1'] = retrieved_nodes[1]\n",
    "        S_factoid.at[index, 'node_2'] = retrieved_nodes[2]\n",
    "\n",
    "S_factoid.to_csv(f\"{path_to_root}/data/answers/27dec/S_factoid_answers.csv\") # hvis du skal bruge nodes fuld text, så er det df_absa_aug whatever\n",
    "S_factoid"
   ]
  }
 ],
 "metadata": {
  "kernelspec": {
   "display_name": "nlp-e23-exam_new",
   "language": "python",
   "name": "nlp-e23-exam_new"
  },
  "language_info": {
   "codemirror_mode": {
    "name": "ipython",
    "version": 3
   },
   "file_extension": ".py",
   "mimetype": "text/x-python",
   "name": "python",
   "nbconvert_exporter": "python",
   "pygments_lexer": "ipython3",
   "version": "3.10.12"
  }
 },
 "nbformat": 4,
 "nbformat_minor": 2
}
